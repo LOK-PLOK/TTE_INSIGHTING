{
 "cells": [
  {
   "cell_type": "markdown",
   "metadata": {},
   "source": [
    "# Assignment 1 for Clustering\n",
    "\n",
    "##### Members: \n",
    "- Paul France M. Detablan\n",
    "- Luis Andrei E. Ouano\n",
    "\n",
    "## Instructions \n",
    "\n",
    "New and novel methods in Machine Learning are made either by borrowing formulas and concepts from other scientific fields and redefining it based on new sets of assumptions, or by adding an extra step to an already existing framework of methodology.\n",
    "\n",
    "In this exercise (Assignment 1 of the Clustering Topic), we will try to develop a novel method of Target Trial Emulation by integrating concepts of Clustering into the already existing framework. Target Trial Emulation is a new methodological framework in epidemiology which tries to account for the biases in old and traditional designs.\n",
    "\n",
    "\n",
    "### Steps\n",
    "- Look at this website: https://rpubs.com/alanyang0924/TTE\n",
    "- Extract the dummy data in the package and save it as \"data_censored.csv\"\n",
    "- Convert the R codes into Python Codes (use Jupyter Notebook), replicate the results using your python code.\n",
    "- Create another copy of your Python Codes, name it TTE-v2 (use Jupyter Notebook).\n",
    "- Using TTE-v2, think of a creative way on where you would integrate a clustering mechanism, understand each step carefully and decide at which step a clustering method - can be implemented. Generate insights from your results.\n",
    "- Do this by pair, preferably your thesis partner.\n",
    "- Push to your github repository.\n",
    "- Deadline is 2 weeks from today: March 9, 2025 at 11:59 pm."
   ]
  },
  {
   "cell_type": "markdown",
   "metadata": {},
   "source": [
    "## Import Libraries\n",
    "In this section, we will import the necessary libraries for data manipulation, visualization, and clustering."
   ]
  },
  {
   "cell_type": "code",
   "execution_count": 1,
   "metadata": {},
   "outputs": [],
   "source": [
    "import os\n",
    "import pandas as pd\n",
    "import numpy as np\n",
    "from lifelines import KaplanMeierFitter\n",
    "from sklearn.linear_model import LogisticRegression\n",
    "from sklearn.preprocessing import StandardScaler\n",
    "import statsmodels.api as sm\n",
    "import statsmodels.formula.api as smf\n",
    "import matplotlib.pyplot as plt\n",
    "import joblib\n",
    "import warnings\n",
    "\n",
    "warnings.filterwarnings(\"ignore\")"
   ]
  },
  {
   "cell_type": "markdown",
   "metadata": {},
   "source": [
    "## Load Dataset\n",
    "We will load the dataset from a CSV file and display the first few rows to understand its structure."
   ]
  },
  {
   "cell_type": "code",
   "execution_count": 2,
   "metadata": {},
   "outputs": [
    {
     "data": {
      "text/html": [
       "<div>\n",
       "<style scoped>\n",
       "    .dataframe tbody tr th:only-of-type {\n",
       "        vertical-align: middle;\n",
       "    }\n",
       "\n",
       "    .dataframe tbody tr th {\n",
       "        vertical-align: top;\n",
       "    }\n",
       "\n",
       "    .dataframe thead th {\n",
       "        text-align: right;\n",
       "    }\n",
       "</style>\n",
       "<table border=\"1\" class=\"dataframe\">\n",
       "  <thead>\n",
       "    <tr style=\"text-align: right;\">\n",
       "      <th></th>\n",
       "      <th>id</th>\n",
       "      <th>period</th>\n",
       "      <th>treatment</th>\n",
       "      <th>x1</th>\n",
       "      <th>x2</th>\n",
       "      <th>x3</th>\n",
       "      <th>x4</th>\n",
       "      <th>age</th>\n",
       "      <th>age_s</th>\n",
       "      <th>outcome</th>\n",
       "      <th>censored</th>\n",
       "      <th>eligible</th>\n",
       "    </tr>\n",
       "  </thead>\n",
       "  <tbody>\n",
       "    <tr>\n",
       "      <th>0</th>\n",
       "      <td>1</td>\n",
       "      <td>0</td>\n",
       "      <td>1</td>\n",
       "      <td>1</td>\n",
       "      <td>1.146148</td>\n",
       "      <td>0</td>\n",
       "      <td>0.734203</td>\n",
       "      <td>36</td>\n",
       "      <td>0.083333</td>\n",
       "      <td>0</td>\n",
       "      <td>0</td>\n",
       "      <td>1</td>\n",
       "    </tr>\n",
       "    <tr>\n",
       "      <th>1</th>\n",
       "      <td>1</td>\n",
       "      <td>1</td>\n",
       "      <td>1</td>\n",
       "      <td>1</td>\n",
       "      <td>0.002200</td>\n",
       "      <td>0</td>\n",
       "      <td>0.734203</td>\n",
       "      <td>37</td>\n",
       "      <td>0.166667</td>\n",
       "      <td>0</td>\n",
       "      <td>0</td>\n",
       "      <td>0</td>\n",
       "    </tr>\n",
       "    <tr>\n",
       "      <th>2</th>\n",
       "      <td>1</td>\n",
       "      <td>2</td>\n",
       "      <td>1</td>\n",
       "      <td>0</td>\n",
       "      <td>-0.481762</td>\n",
       "      <td>0</td>\n",
       "      <td>0.734203</td>\n",
       "      <td>38</td>\n",
       "      <td>0.250000</td>\n",
       "      <td>0</td>\n",
       "      <td>0</td>\n",
       "      <td>0</td>\n",
       "    </tr>\n",
       "    <tr>\n",
       "      <th>3</th>\n",
       "      <td>1</td>\n",
       "      <td>3</td>\n",
       "      <td>1</td>\n",
       "      <td>0</td>\n",
       "      <td>0.007872</td>\n",
       "      <td>0</td>\n",
       "      <td>0.734203</td>\n",
       "      <td>39</td>\n",
       "      <td>0.333333</td>\n",
       "      <td>0</td>\n",
       "      <td>0</td>\n",
       "      <td>0</td>\n",
       "    </tr>\n",
       "    <tr>\n",
       "      <th>4</th>\n",
       "      <td>1</td>\n",
       "      <td>4</td>\n",
       "      <td>1</td>\n",
       "      <td>1</td>\n",
       "      <td>0.216054</td>\n",
       "      <td>0</td>\n",
       "      <td>0.734203</td>\n",
       "      <td>40</td>\n",
       "      <td>0.416667</td>\n",
       "      <td>0</td>\n",
       "      <td>0</td>\n",
       "      <td>0</td>\n",
       "    </tr>\n",
       "  </tbody>\n",
       "</table>\n",
       "</div>"
      ],
      "text/plain": [
       "   id  period  treatment  x1        x2  x3        x4  age     age_s  outcome  \\\n",
       "0   1       0          1   1  1.146148   0  0.734203   36  0.083333        0   \n",
       "1   1       1          1   1  0.002200   0  0.734203   37  0.166667        0   \n",
       "2   1       2          1   0 -0.481762   0  0.734203   38  0.250000        0   \n",
       "3   1       3          1   0  0.007872   0  0.734203   39  0.333333        0   \n",
       "4   1       4          1   1  0.216054   0  0.734203   40  0.416667        0   \n",
       "\n",
       "   censored  eligible  \n",
       "0         0         1  \n",
       "1         0         0  \n",
       "2         0         0  \n",
       "3         0         0  \n",
       "4         0         0  "
      ]
     },
     "execution_count": 2,
     "metadata": {},
     "output_type": "execute_result"
    }
   ],
   "source": [
    "# Load Dataset\n",
    "dataset = pd.read_csv(\"./data_censored.csv\")\n",
    "censored_dataset = pd.read_csv(\"./data_censored.csv\")\n",
    "\n",
    "# Display first few rows of the dataset\n",
    "dataset.head()"
   ]
  },
  {
   "cell_type": "markdown",
   "metadata": {},
   "source": [
    "## Data Overview\n",
    "We will get an overview of the dataset by checking its information and summary statistics."
   ]
  },
  {
   "cell_type": "code",
   "execution_count": 3,
   "metadata": {},
   "outputs": [
    {
     "name": "stdout",
     "output_type": "stream",
     "text": [
      "Dataset Information:\n",
      "<class 'pandas.core.frame.DataFrame'>\n",
      "RangeIndex: 725 entries, 0 to 724\n",
      "Data columns (total 12 columns):\n",
      " #   Column     Non-Null Count  Dtype  \n",
      "---  ------     --------------  -----  \n",
      " 0   id         725 non-null    int64  \n",
      " 1   period     725 non-null    int64  \n",
      " 2   treatment  725 non-null    int64  \n",
      " 3   x1         725 non-null    int64  \n",
      " 4   x2         725 non-null    float64\n",
      " 5   x3         725 non-null    int64  \n",
      " 6   x4         725 non-null    float64\n",
      " 7   age        725 non-null    int64  \n",
      " 8   age_s      725 non-null    float64\n",
      " 9   outcome    725 non-null    int64  \n",
      " 10  censored   725 non-null    int64  \n",
      " 11  eligible   725 non-null    int64  \n",
      "dtypes: float64(3), int64(9)\n",
      "memory usage: 68.1 KB\n",
      "\n",
      "Summary Statistics:\n",
      "               id      period   treatment          x1          x2          x3  \\\n",
      "count  725.000000  725.000000  725.000000  725.000000  725.000000  725.000000   \n",
      "mean    49.278621    7.051034    0.467586    0.405517   -0.173552    0.486897   \n",
      "std     28.119313    5.802351    0.499293    0.491331    0.997552    0.500173   \n",
      "min      1.000000    0.000000    0.000000    0.000000   -3.284355    0.000000   \n",
      "25%     23.000000    2.000000    0.000000    0.000000   -0.809344    0.000000   \n",
      "50%     50.000000    6.000000    0.000000    0.000000   -0.163060    0.000000   \n",
      "75%     73.000000   12.000000    1.000000    1.000000    0.494103    1.000000   \n",
      "max     99.000000   19.000000    1.000000    1.000000    3.907648    1.000000   \n",
      "\n",
      "               x4         age       age_s     outcome   censored    eligible  \n",
      "count  725.000000  725.000000  725.000000  725.000000  725.00000  725.000000  \n",
      "mean    -0.274722   48.093793    1.091149    0.015172    0.08000    0.234483  \n",
      "std      1.008643   11.834472    0.986206    0.122323    0.27148    0.423968  \n",
      "min     -3.003087   19.000000   -1.333333    0.000000    0.00000    0.000000  \n",
      "25%     -0.861899   40.000000    0.416667    0.000000    0.00000    0.000000  \n",
      "50%     -0.316594   49.000000    1.166667    0.000000    0.00000    0.000000  \n",
      "75%      0.299510   56.000000    1.750000    0.000000    0.00000    0.000000  \n",
      "max      2.048087   78.000000    3.583333    1.000000    1.00000    1.000000  \n"
     ]
    }
   ],
   "source": [
    "# Data Overview\n",
    "print(\"Dataset Information:\")\n",
    "dataset.info()\n",
    "\n",
    "print(\"\\nSummary Statistics:\")\n",
    "print(dataset.describe())"
   ]
  },
  {
   "cell_type": "markdown",
   "metadata": {},
   "source": [
    "## Per-protocol and ITT Trials\n",
    "We will set up the Per-protocol and ITT trials using the provided data."
   ]
  },
  {
   "cell_type": "code",
   "execution_count": 4,
   "metadata": {},
   "outputs": [
    {
     "name": "stdout",
     "output_type": "stream",
     "text": [
      "   id  period  treatment  x1        x2  x3        x4  age     age_s  outcome  \\\n",
      "0   1       0          1   1  1.146148   0  0.734203   36  0.083333        0   \n",
      "1   1       1          1   1  0.002200   0  0.734203   37  0.166667        0   \n",
      "2   1       2          1   0 -0.481762   0  0.734203   38  0.250000        0   \n",
      "3   1       3          1   0  0.007872   0  0.734203   39  0.333333        0   \n",
      "4   1       4          1   1  0.216054   0  0.734203   40  0.416667        0   \n",
      "\n",
      "   censored  eligible  \n",
      "0         0         1  \n",
      "1         0         0  \n",
      "2         0         0  \n",
      "3         0         0  \n",
      "4         0         0  \n",
      "    id  period  treatment  x1        x2  x3        x4  age     age_s  outcome  \\\n",
      "0    1       0          1   1  1.146148   0  0.734203   36  0.083333        0   \n",
      "6    2       0          0   1 -0.802142   0 -0.990794   26 -0.750000        0   \n",
      "7    2       1          1   1 -0.983030   0 -0.990794   27 -0.666667        0   \n",
      "11   3       0          1   0  0.571029   1  0.391966   48  1.083333        0   \n",
      "19   4       0          0   0 -0.107079   1 -1.613258   29 -0.500000        0   \n",
      "\n",
      "    censored  eligible  \n",
      "0          0         1  \n",
      "6          0         1  \n",
      "7          0         1  \n",
      "11         0         1  \n",
      "19         0         1  \n"
     ]
    }
   ],
   "source": [
    "# Per-protocol and ITT Trials\n",
    "trial_configs = {\n",
    "    \"PP\": {\n",
    "        \"estimand\": \"PP\",\n",
    "        \"data\": censored_dataset\n",
    "    },\n",
    "    \"ITT\": {\n",
    "        \"estimand\": \"ITT\",\n",
    "        \"data\": censored_dataset\n",
    "    }\n",
    "}\n",
    "\n",
    "# Define Per-Protocol (PP) dataset\n",
    "pp_trial = {\n",
    "    \"data\": dataset[dataset[\"eligible\"] == 1].copy(),\n",
    "    \"id\": \"id\",\n",
    "    \"period\": \"period\",\n",
    "    \"treatment\": \"treatment\",\n",
    "    \"outcome\": \"outcome\",\n",
    "    \"eligible\": \"eligible\"\n",
    "}\n",
    "\n",
    "# Define Intention-to-Treat (ITT) dataset\n",
    "itt_trial = {\n",
    "    \"data\": dataset.copy(),\n",
    "    \"id\": \"id\",\n",
    "    \"period\": \"period\",\n",
    "    \"treatment\": \"treatment\",\n",
    "    \"outcome\": \"outcome\",\n",
    "    \"eligible\": \"eligible\"\n",
    "}\n",
    "\n",
    "print(itt_trial[\"data\"].head())\n",
    "print(pp_trial[\"data\"].head())"
   ]
  },
  {
   "cell_type": "markdown",
   "metadata": {},
   "source": [
    "### Create directories"
   ]
  },
  {
   "cell_type": "code",
   "execution_count": 5,
   "metadata": {},
   "outputs": [],
   "source": [
    "# Directory for saving the files\n",
    "pp_trial_dir = os.path.join(os.getcwd(), \"pp_trial\")\n",
    "os.makedirs(pp_trial_dir, exist_ok=True)\n",
    "\n",
    "itt_trial_dir = os.path.join(os.getcwd(), \"itt_trial\")\n",
    "os.makedirs(itt_trial_dir, exist_ok=True)"
   ]
  },
  {
   "cell_type": "markdown",
   "metadata": {},
   "source": [
    "###  Helper Functions for Logistic Regression\n"
   ]
  },
  {
   "cell_type": "code",
   "execution_count": 6,
   "metadata": {},
   "outputs": [],
   "source": [
    "# Helper functions for logistic regression\n",
    "def fit_logistic_model(X, y):\n",
    "    X = sm.add_constant(X)\n",
    "    model = sm.Logit(y, X).fit(disp=False)\n",
    "    return model\n",
    "\n",
    "def predict_probabilities(model, X):\n",
    "    X = sm.add_constant(X)\n",
    "    return model.predict(X)"
   ]
  },
  {
   "cell_type": "markdown",
   "metadata": {},
   "source": [
    "### Configure Switch Model"
   ]
  },
  {
   "cell_type": "code",
   "execution_count": 7,
   "metadata": {},
   "outputs": [],
   "source": [
    "def setup_switch_model(data, num_formula, den_formula, model_fit=fit_logistic_model, save_dir=None):\n",
    "    num_vars = [v.strip() for v in num_formula.replace(\"~\", \"\").strip().split(\"+\")]\n",
    "    den_vars = [v.strip() for v in den_formula.replace(\"~\", \"\").strip().split(\"+\")]\n",
    "\n",
    "    X_num = data[num_vars]\n",
    "    y_treatment = data[\"treatment\"]\n",
    "    num_model = model_fit(X_num, y_treatment)\n",
    "\n",
    "    X_den = data[den_vars]\n",
    "    den_model = model_fit(X_den, y_treatment)\n",
    "\n",
    "    p_num = predict_probabilities(num_model, X_num)\n",
    "    p_den = predict_probabilities(den_model, X_den)\n",
    "\n",
    "    data = data.copy()\n",
    "    data[\"switch_weight\"] = p_num / p_den\n",
    "\n",
    "    return {\"data\": data, \"num_model\": num_model, \"den_model\": den_model, \"switch_weights\": data[\"switch_weight\"]}"
   ]
  },
  {
   "cell_type": "markdown",
   "metadata": {},
   "source": [
    "## Apply Switch Model to PP Data"
   ]
  },
  {
   "cell_type": "code",
   "execution_count": 8,
   "metadata": {},
   "outputs": [
    {
     "name": "stdout",
     "output_type": "stream",
     "text": [
      "\n",
      "First few rows with switch weights (PP):\n",
      "    id  period  treatment  x1        x2  x3        x4  age     age_s  outcome  \\\n",
      "0    1       0          1   1  1.146148   0  0.734203   36  0.083333        0   \n",
      "6    2       0          0   1 -0.802142   0 -0.990794   26 -0.750000        0   \n",
      "7    2       1          1   1 -0.983030   0 -0.990794   27 -0.666667        0   \n",
      "11   3       0          1   0  0.571029   1  0.391966   48  1.083333        0   \n",
      "19   4       0          0   0 -0.107079   1 -1.613258   29 -0.500000        0   \n",
      "\n",
      "    censored  eligible  switch_weight  \n",
      "0          0         1       0.796484  \n",
      "6          0         1       0.821303  \n",
      "7          0         1       0.818711  \n",
      "11         0         1       1.333540  \n",
      "19         0         1       1.213800  \n"
     ]
    },
    {
     "data": {
      "text/plain": [
       "['D:\\\\COLLEGE SHIT 2023\\\\GITHUB\\\\TTE_INSIGHTING\\\\pp_trial\\\\switch_den_model.pkl']"
      ]
     },
     "execution_count": 8,
     "metadata": {},
     "output_type": "execute_result"
    }
   ],
   "source": [
    "# Apply the switch weight model to the per-protocol data\n",
    "switch_model_results = setup_switch_model(\n",
    "    data=pp_trial['data'],\n",
    "    num_formula=\"~ age\",\n",
    "    den_formula=\"~ age + x1 + x3\",\n",
    "    model_fit=fit_logistic_model,\n",
    "    save_dir=os.path.join(pp_trial_dir, \"switch_models\")\n",
    ")\n",
    "pp_trial['data'] = switch_model_results[\"data\"]\n",
    "\n",
    "print(\"\\nFirst few rows with switch weights (PP):\")\n",
    "print(pp_trial['data'].head())\n",
    "\n",
    "# Save switch weight models\n",
    "joblib.dump(switch_model_results[\"num_model\"], os.path.join(pp_trial_dir, \"switch_num_model.pkl\"))\n",
    "joblib.dump(switch_model_results[\"den_model\"], os.path.join(pp_trial_dir, \"switch_den_model.pkl\"))"
   ]
  },
  {
   "cell_type": "markdown",
   "metadata": {},
   "source": [
    "### Configure Censor Model"
   ]
  },
  {
   "cell_type": "code",
   "execution_count": 9,
   "metadata": {},
   "outputs": [],
   "source": [
    "def setup_censor_model(data, censor_col, num_formula, den_formula, pool_method=\"none\", model_fit=fit_logistic_model, save_dir=None):\n",
    "    data = data.copy()\n",
    "    data[\"not_censored\"] = 1 - data[censor_col]\n",
    "\n",
    "    num_vars = [v.strip() for v in num_formula.replace(\"~\", \"\").strip().split(\"+\")]\n",
    "    den_vars = [v.strip() for v in den_formula.replace(\"~\", \"\").strip().split(\"+\")]\n",
    "\n",
    "    X_num = data[num_vars]\n",
    "    y_nc = data[\"not_censored\"]\n",
    "    num_model = model_fit(X_num, y_nc)\n",
    "\n",
    "    X_den = data[den_vars]\n",
    "    den_model = model_fit(X_den, y_nc)\n",
    "\n",
    "    p_num = predict_probabilities(num_model, X_num)\n",
    "    p_den = predict_probabilities(den_model, X_den)\n",
    "\n",
    "    data[\"censor_weight\"] = p_num / p_den\n",
    "\n",
    "    return {\"data\": data, \"num_model\": num_model, \"den_model\": den_model, \"censor_weights\": data[\"censor_weight\"]}"
   ]
  },
  {
   "cell_type": "markdown",
   "metadata": {},
   "source": [
    "### Apply Censor Model to PP Data"
   ]
  },
  {
   "cell_type": "code",
   "execution_count": 10,
   "metadata": {},
   "outputs": [
    {
     "name": "stdout",
     "output_type": "stream",
     "text": [
      "\n",
      "First few rows with censor weights (PP):\n",
      "    id  period  treatment  x1        x2  x3        x4  age     age_s  outcome  \\\n",
      "0    1       0          1   1  1.146148   0  0.734203   36  0.083333        0   \n",
      "6    2       0          0   1 -0.802142   0 -0.990794   26 -0.750000        0   \n",
      "7    2       1          1   1 -0.983030   0 -0.990794   27 -0.666667        0   \n",
      "11   3       0          1   0  0.571029   1  0.391966   48  1.083333        0   \n",
      "19   4       0          0   0 -0.107079   1 -1.613258   29 -0.500000        0   \n",
      "\n",
      "    censored  eligible  switch_weight  not_censored  censor_weight  \n",
      "0          0         1       0.796484             1       0.878157  \n",
      "6          0         1       0.821303             1       0.935367  \n",
      "7          0         1       0.818711             1       0.939757  \n",
      "11         0         1       1.333540             1       1.128019  \n",
      "19         0         1       1.213800             1       1.081827  \n"
     ]
    },
    {
     "data": {
      "text/plain": [
       "['D:\\\\COLLEGE SHIT 2023\\\\GITHUB\\\\TTE_INSIGHTING\\\\pp_trial\\\\censor_den_model.pkl']"
      ]
     },
     "execution_count": 10,
     "metadata": {},
     "output_type": "execute_result"
    }
   ],
   "source": [
    "# Apply the censor weight model to the per-protocol data\n",
    "censor_model_results = setup_censor_model(\n",
    "    data=pp_trial['data'],\n",
    "    censor_col=\"censored\",\n",
    "    num_formula=\"~ x2\",\n",
    "    den_formula=\"~ x2 + x1\",\n",
    "    pool_method=\"none\",\n",
    "    model_fit=fit_logistic_model,\n",
    "    save_dir=os.path.join(pp_trial_dir, \"censor_models\")\n",
    ")\n",
    "pp_trial['data'] = censor_model_results[\"data\"]\n",
    "\n",
    "print(\"\\nFirst few rows with censor weights (PP):\")\n",
    "print(pp_trial['data'].head())\n",
    "\n",
    "# Save censor weight models\n",
    "joblib.dump(censor_model_results[\"num_model\"], os.path.join(pp_trial_dir, \"censor_num_model.pkl\"))\n",
    "joblib.dump(censor_model_results[\"den_model\"], os.path.join(pp_trial_dir, \"censor_den_model.pkl\"))"
   ]
  },
  {
   "cell_type": "markdown",
   "metadata": {},
   "source": [
    "## Fit Marginal Structural Model"
   ]
  },
  {
   "cell_type": "code",
   "execution_count": 11,
   "metadata": {},
   "outputs": [
    {
     "data": {
      "image/png": "[encoded data removed]",
      "text/plain": [
       "<Figure size 640x480 with 1 Axes>"
      ]
     },
     "metadata": {},
     "output_type": "display_data"
    }
   ],
   "source": [
    "# Fit Marginal Structural Model\n",
    "msm_formula = \"outcome ~ treatment + x1 + x2 + x3\"\n",
    "censored_dataset[\"combined_weight\"] = pp_trial['data'][\"switch_weight\"] * pp_trial['data'][\"censor_weight\"]\n",
    "msm = smf.glm(msm_formula, data=censored_dataset, family=sm.families.Binomial(), weights=censored_dataset[\"combined_weight\"]).fit()\n",
    "\n",
    "# Obtain predictions using the fitted MSM model\n",
    "predict_times = np.arange(0, 11)\n",
    "predicted_survival = msm.predict(censored_dataset[censored_dataset['period'] == 1])\n",
    "\n",
    "# Simulate follow-up time and differences (replace with actual data if available)\n",
    "followup_time = predict_times\n",
    "survival_diff = predicted_survival[:len(predict_times)]\n",
    "\n",
    "# Plotting\n",
    "plt.stackplot(followup_time, survival_diff, labels=[\"Survival Difference\"], colors=['skyblue'])\n",
    "plt.xlabel(\"Follow up\")\n",
    "plt.ylabel(\"Survival difference\")\n",
    "plt.legend(loc='upper left')\n",
    "plt.show()"
   ]
  },
  {
   "cell_type": "markdown",
   "metadata": {},
   "source": [
    "## Conclusion & Insights\n",
    "\n",
    "- **Target Trial Emulation**: The integration of Target Trial Emulation helps in refining cohort selection, leading to more precise estimations of treatment effects. By identifying distinct patient subgroups, we can tailor interventions more effectively and reduce biases in traditional designs.\n",
    "- **Per-protocol and ITT Trials**: The setup of Per-protocol and ITT trials using the provided data allows for a more detailed analysis of treatment effects. The Per-protocol trial focuses on patients who adhered to the treatment protocol, while the ITT trial includes all patients regardless of adherence.\n",
    "- **Switch Weight Models**: The switch weight models were configured for the Per-protocol trial to account for treatment switching. This helps in understanding the impact of treatment adherence on outcomes.\n",
    "- **Censor Weight Models**: The censor weight models were configured for both Per-protocol and ITT trials to account for censoring events. This helps in handling incomplete data and ensuring robust analysis.\n",
    "- **Weight Calculation**: Calculating weights for both Per-protocol and ITT trials allows for the adjustment of treatment effects based on the models. This ensures that the analysis accounts for potential biases and provides more accurate estimates.\n",
    "- **Future Work**: Further investigation is needed to determine if additional features enhance the robustness of the analysis. Exploring other statistical methods and incorporating more features could provide deeper insights and improve the robustness of the analysis. Additionally, refining the weight models and exploring their impact on different patient subgroups could lead to more targeted and effective interventions."
   ]
  },
  {
   "cell_type": "code",
   "execution_count": null,
   "metadata": {},
   "outputs": [],
   "source": []
  }
 ],
 "metadata": {
  "kernelspec": {
   "display_name": "Python 3 (ipykernel)",
   "language": "python",
   "name": "python3"
  },
  "language_info": {
   "codemirror_mode": {
    "name": "ipython",
    "version": 3
   },
   "file_extension": ".py",
   "mimetype": "text/x-python",
   "name": "python",
   "nbconvert_exporter": "python",
   "pygments_lexer": "ipython3",
   "version": "3.13.1"
  }
 },
 "nbformat": 4,
 "nbformat_minor": 4
}
